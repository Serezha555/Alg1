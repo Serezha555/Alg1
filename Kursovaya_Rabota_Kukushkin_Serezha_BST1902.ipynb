{
 "cells": [
  {
   "cell_type": "markdown",
   "metadata": {},
   "source": [
    "# Курсовая работа по дисциплине СиАОД"
   ]
  },
  {
   "cell_type": "markdown",
   "metadata": {},
   "source": [
    "## Выполнил студент группы БСТ1902 Кукушкин С.С."
   ]
  },
  {
   "cell_type": "markdown",
   "metadata": {},
   "source": [
    "### Задача 1 «Треугольник с максимальным периметром»"
   ]
  },
  {
   "cell_type": "markdown",
   "metadata": {},
   "source": [
    "Массив A состоит из целых положительных чисел длин отрезков. Составьте из трех отрезков такой треугольник, чтобы его периметр был максимально возможным. Если невозможно составить треугольник с положительной площадью функция возвращает 0."
   ]
  },
  {
   "cell_type": "code",
   "execution_count": 1,
   "metadata": {},
   "outputs": [
    {
     "name": "stdout",
     "output_type": "stream",
     "text": [
      "[2, 1, 2] Максимальный периметр: 5\n",
      "[1, 2, 1] Треугольника не существует: 0\n",
      "[3, 2, 3, 4] Максимальный периметр: 10\n",
      "[3, 6, 2, 3] Максимальный периметр: 8\n"
     ]
    }
   ],
   "source": [
    "def maxPerimeter(arr):\n",
    "    maximum = 0\n",
    "    n = len(arr)\n",
    "    for i in range(n - 2):\n",
    "        for j in range(i + 1, n - 1):\n",
    "            for k in range(j + 1, n):  \n",
    "                # a, b, c - 3 стороны\n",
    "                a = arr[i]\n",
    "                b = arr[j]\n",
    "                c = arr[k]\n",
    "                if(a < b + c and b < a + c \n",
    "                             and c < a + b):\n",
    "                    maximum = max(maximum, a + b + c)\n",
    "    if(maximum == 0):\n",
    "        return (\"Треугольника не существует: \"+ str(maximum))\n",
    "    else:\n",
    "        return (\"Максимальный периметр: \"+ str(maximum))    \n",
    "    \n",
    "arr = [2, 1, 2]\n",
    "print(arr, maxPerimeter(arr))\n",
    "arr = [1, 2, 1]\n",
    "print(arr, maxPerimeter(arr))\n",
    "arr = [3, 2, 3, 4]\n",
    "print(arr, maxPerimeter(arr))\n",
    "arr = [3, 6, 2, 3]\n",
    "print(arr, maxPerimeter(arr))"
   ]
  },
  {
   "cell_type": "markdown",
   "metadata": {},
   "source": [
    "### Задача 2 «Максимальное число»"
   ]
  },
  {
   "cell_type": "markdown",
   "metadata": {},
   "source": [
    "Дан массив неотрицательных целых чисел nums. Расположите их в таком порядке, чтобы вместе они образовали максимально возможное число."
   ]
  },
  {
   "cell_type": "code",
   "execution_count": 2,
   "metadata": {},
   "outputs": [
    {
     "name": "stdout",
     "output_type": "stream",
     "text": [
      "711100\n"
     ]
    }
   ],
   "source": [
    "class MaxNumKey(str):\n",
    "    def __lt__(x, y):\n",
    "        return x+y > y+x\n",
    "\n",
    "class Solution:\n",
    "    def maxNumber( nums):\n",
    "        max_num = ''.join(sorted(map(str, nums), key=MaxNumKey))\n",
    "        return '0' if max_num[0] == '0' else max_num\n",
    "\n",
    "print(Solution.maxNumber([10,11,0,7]))"
   ]
  },
  {
   "cell_type": "markdown",
   "metadata": {},
   "source": [
    "### Задача 3 «Сортировка диагоналей в матрице»"
   ]
  },
  {
   "cell_type": "markdown",
   "metadata": {},
   "source": [
    "Дана матрица mat размером m * n, значения целочисленные. Напишите функцию, сортирующую каждую диагональ матрицы по возрастанию и возвращающую получившуюся матрицу."
   ]
  },
  {
   "cell_type": "code",
   "execution_count": 3,
   "metadata": {},
   "outputs": [
    {
     "name": "stdout",
     "output_type": "stream",
     "text": [
      "Matrix:\n",
      "[3, 3, 1, 1]\n",
      "[2, 2, 1, 2]\n",
      "[1, 1, 1, 2]\n",
      "\n",
      "Sorted: \n",
      "[1, 1, 1, 1]\n",
      "[1, 2, 2, 2]\n",
      "[1, 2, 3, 3]\n",
      "\n",
      "Matrix:\n",
      "[11, 25, 66, 1, 69, 7]\n",
      "[23, 55, 17, 45, 15, 52]\n",
      "[75, 31, 36, 44, 58, 8]\n",
      "[22, 27, 33, 25, 68, 4]\n",
      "[84, 28, 14, 11, 5, 50]\n",
      "\n",
      "Sorted: \n",
      "[5, 17, 4, 1, 52, 7]\n",
      "[11, 11, 25, 45, 8, 69]\n",
      "[14, 23, 25, 44, 58, 15]\n",
      "[22, 27, 31, 36, 50, 66]\n",
      "[84, 28, 75, 33, 55, 68]\n"
     ]
    }
   ],
   "source": [
    "def sortir(matrix):\n",
    "    m, n = len(matrix), len(matrix[0])\n",
    "    temp = [[] for i in range(m+n)]\n",
    "    # Добавляем каждую диагональ в массив t\n",
    "    for i in range(m):\n",
    "        for j in range(n):\n",
    "            temp[i - j].append(matrix[i][j])\n",
    "    # Сортируем каждую диагональ массива\n",
    "    for line in temp:\n",
    "        line.sort(reverse = True)\n",
    "    # \"Линии\" в диагонали матрицы\n",
    "    for i in range(m):\n",
    "        for j in range(n):\n",
    "            # pop() удаляет последний элемент массива и возвращает его\n",
    "            matrix[i][j] = temp[i-j].pop()\n",
    "    return matrix\n",
    "\n",
    "\n",
    "arr = [[3,3,1,1], [2,2,1,2], [1,1,1,2]]\n",
    "print(\"Matrix:\")\n",
    "for l in arr:\n",
    "    print(l) \n",
    "print(\"\\nSorted: \")\n",
    "arr = sortir(arr)\n",
    "for l in arr:\n",
    "    print(l)\n",
    "arr = [[11, 25, 66, 1, 69, 7], [23, 55, 17, 45, 15, 52], [75, 31, 36, 44, 58, 8], [22, 27, 33, 25, 68, 4], [84, 28, 14, 11, 5, 50]]\n",
    "print(\"\\nMatrix:\")\n",
    "for l in arr:\n",
    "    print(l)\n",
    "    \n",
    "print(\"\\nSorted: \")\n",
    "arr = sortir(arr)\n",
    "for l in arr:\n",
    "    print(l)"
   ]
  },
  {
   "cell_type": "markdown",
   "metadata": {},
   "source": [
    "### Задача 4 Проверка на аннограмму"
   ]
  },
  {
   "cell_type": "markdown",
   "metadata": {},
   "source": [
    "Напишите программу, которая проверит, является данная аннограмма аннограммой данного слова"
   ]
  },
  {
   "cell_type": "code",
   "execution_count": 4,
   "metadata": {},
   "outputs": [
    {
     "name": "stdout",
     "output_type": "stream",
     "text": [
      "True\n"
     ]
    }
   ],
   "source": [
    "def anagram(s,t):\n",
    "    alist1=list(s)\n",
    "    alist2=list(t)\n",
    "\n",
    "    alist1.sort()\n",
    "    alist2.sort()\n",
    "\n",
    "    pos=0\n",
    "    matches=True\n",
    "\n",
    "    while pos<len(s) and matches:\n",
    "        if alist1[pos]==alist2[pos]:\n",
    "            pos=pos+1\n",
    "        else:\n",
    "            matches=False\n",
    "\n",
    "    return matches\n",
    "\n",
    "print(anagram('anagram','nagaram'))"
   ]
  },
  {
   "cell_type": "markdown",
   "metadata": {},
   "source": [
    "### Задача 5 «Стопки монет»"
   ]
  },
  {
   "cell_type": "markdown",
   "metadata": {},
   "source": [
    "На столе стоят 3n стопок монет. Вы и ваши друзья Алиса и Боб забираете стопки монет по следующему алгоритму:\n",
    "\n",
    "    1. Вы выбираете 3 стопки монет из оставшихся на столе.\n",
    "    2. Алиса забирает себе стопку с максимальным количеством монет.\n",
    "    3. Вы забираете одну из двух оставшихся стопок.\n",
    "    4. Боб забирает последнюю стопку.\n",
    "    5. Если еще остались стопки, то действия повторяются с первого шага.\n",
    "\n",
    "Дан массив целых положительных чисел piles. Напишите функцию, возвращающую максимальное число монет, которое вы можете получить."
   ]
  },
  {
   "cell_type": "code",
   "execution_count": 5,
   "metadata": {},
   "outputs": [
    {
     "name": "stdout",
     "output_type": "stream",
     "text": [
      "[2,4,5,6,7,8] --> 12\n",
      "[2,4,5] --> 4\n",
      "[9,8,7,6,5,1,2,3,4] --> 18\n"
     ]
    }
   ],
   "source": [
    "def max_coint(arr):\n",
    "    arr.sort()\n",
    "    res=0\n",
    "    n=len(arr)//3\n",
    "    for i in range (n, len(arr), 2):\n",
    "        res+=arr[i]\n",
    "    return res\n",
    "\n",
    "print(\"[2,4,5,6,7,8] -->\", max_coint([2,4,5,6,7,8]))\n",
    "print(\"[2,4,5] -->\", max_coint([2,4,5]))\n",
    "print(\"[9,8,7,6,5,1,2,3,4] -->\", max_coint([9,8,7,6,5,1,2,3,4]))"
   ]
  },
  {
   "cell_type": "markdown",
   "metadata": {},
   "source": [
    "### Задача 6. «Объединение отрезков»"
   ]
  },
  {
   "cell_type": "markdown",
   "metadata": {},
   "source": [
    "Дан массив отрезков intervals, в котором intervals[i] = [start(i), end(i)], некоторые отрезки могут пересекаться. Напишите функцию, которая объединяет все пересекающиеся отрезки в один и возвращает новый массив непересекающихся отрезков"
   ]
  },
  {
   "cell_type": "code",
   "execution_count": 6,
   "metadata": {},
   "outputs": [
    {
     "name": "stdout",
     "output_type": "stream",
     "text": [
      "[[1,3],[2,6],[8,10],[15,18]] --> [[1, 6], [8, 10], [15, 18]]\n",
      "[[1,4],[4,5]] --> [[1, 5]]\n"
     ]
    }
   ],
   "source": [
    "import collections\n",
    "class Solution:\n",
    "    def overlap(a, b):\n",
    "        return a[0] <= b[1] and b[0] <= a[1]\n",
    "#функция, которая создает график, в котором существует \n",
    "#неориентированное ребро между интервалами u и v, если u и v перекрываются.\n",
    "    def buildGraph(intervals):\n",
    "        graph = collections.defaultdict(list)\n",
    "\n",
    "        for i, interval_i in enumerate(intervals):\n",
    "            for j in range(i+1, len(intervals)):\n",
    "                if Solution.overlap(interval_i, intervals[j]):\n",
    "                    graph[tuple(interval_i)].append(intervals[j])\n",
    "                    graph[tuple(intervals[j])].append(interval_i)\n",
    "\n",
    "        return graph\n",
    "#функция, которая объединяет все узлы в этом подключенном компоненте в один интервал.\n",
    "    def mergeNodes(nodes):\n",
    "        min_start = min(node[0] for node in nodes)\n",
    "        max_end = max(node[1] for node in nodes)\n",
    "        return [min_start, max_end]\n",
    "#функция, которая получает связанные компоненты графа перекрытия интервалов.\n",
    "    def getComponents(graph, intervals):\n",
    "        visited = set()\n",
    "        comp_number = 0\n",
    "        nodes_in_comp = collections.defaultdict(list)\n",
    "\n",
    "        def markComponentDFS(start):\n",
    "            stack = [start]\n",
    "            while stack:\n",
    "                node = tuple(stack.pop())\n",
    "                if node not in visited:\n",
    "                    visited.add(node)\n",
    "                    nodes_in_comp[comp_number].append(node)\n",
    "                    stack.extend(graph[node])\n",
    "#цикл, в котором помечаются все узлы в одном и том же связном компоненте одним и тем же целым числом.\n",
    "        for interval in intervals:\n",
    "            if tuple(interval) not in visited:\n",
    "                markComponentDFS(interval)\n",
    "                comp_number += 1\n",
    "\n",
    "        return nodes_in_comp, comp_number\n",
    "\n",
    "\n",
    "    def merge(intervals):\n",
    "        graph = Solution.buildGraph(intervals)\n",
    "        nodes_in_comp, number_of_comps = Solution.getComponents(graph, intervals)\n",
    "#все интервалы в каждом подключенном компоненте должны быть объединены.\n",
    "        return [Solution.mergeNodes(nodes_in_comp[comp]) for comp in range(number_of_comps)]\n",
    "\n",
    "print(\"[[1,3],[2,6],[8,10],[15,18]] -->\", Solution.merge([[1,3],[2,6],[8,10],[15,18]]))\n",
    "print(\"[[1,4],[4,5]] -->\", Solution.merge([[1,4],[4,5]]))"
   ]
  },
  {
   "cell_type": "markdown",
   "metadata": {},
   "source": [
    "### Задача 7 «Шарики и стрелы»"
   ]
  },
  {
   "cell_type": "markdown",
   "metadata": {},
   "source": [
    "Некоторые сферические шарики распределены по двухмерному пространству. Для каждого шарика даны x координаты начала и конца его горизонтального диаметра. Так как пространство двумерно, то y координаты не имеют значения в данной задаче. Координата x(start) всегда меньше x(end). Стрелу можно выстрелить строго вертикально (вдоль y оси) из разных точек x оси. Шарик с координатами xstart и xend уничтожается стрелой, если она была выпущена из такой позиции x, что x(start) ⩽ x ⩽ x(end). Когда стрела выпущена, она летит в пространстве бесконечное время (уничтожая все шарики на пути). Дан массив points, где points[i] = [x(start), x(end)]. Напишите функцию, возвращающую минимальное количество стрел, которые нужно выпустить, чтобы уничтожить все шарики."
   ]
  },
  {
   "cell_type": "code",
   "execution_count": 7,
   "metadata": {},
   "outputs": [
    {
     "name": "stdout",
     "output_type": "stream",
     "text": [
      "[[10, 16],[2,8],[1,6],[7,12]] --> 2\n",
      " \n",
      "[[1,2],[3,4],[5,6],[7,8]] --> 4\n",
      " \n",
      "[[1,2],[2,3],[3,4],[4,5]] --> 2\n",
      " \n",
      "[[1,2]] --> 1\n",
      " \n",
      "[[2,3],[2,3]] --> 1\n"
     ]
    }
   ],
   "source": [
    "class Solution:\n",
    "    def arrowShots(points) -> int:\n",
    "        if not points: return 0\n",
    "        points.sort()\n",
    "        prev=points[0]\n",
    "        total=1\n",
    "        for s,e in points[1:]:\n",
    "            if s>prev[1]:\n",
    "                total+=1\n",
    "                prev=[s,e]\n",
    "            else:\n",
    "                prev[1]=min(prev[1],e)\n",
    "        \n",
    "        return total\n",
    "\n",
    "print(\"[[10, 16],[2,8],[1,6],[7,12]] -->\", Solution.arrowShots([[10, 16],[2,8],[1,6],[7,12]]))\n",
    "print(\" \")\n",
    "print(\"[[1,2],[3,4],[5,6],[7,8]] -->\", Solution.arrowShots([[1,2],[3,4],[5,6],[7,8]]))\n",
    "print(\" \")\n",
    "print(\"[[1,2],[2,3],[3,4],[4,5]] -->\", Solution.arrowShots([[1,2],[2,3],[3,4],[4,5]]))\n",
    "print(\" \")\n",
    "print(\"[[1,2]] -->\", Solution.arrowShots([[1,2]]))\n",
    "print(\" \")\n",
    "print(\"[[2,3],[2,3]] -->\", Solution.arrowShots([[2,3],[2,3]]))"
   ]
  },
  {
   "cell_type": "markdown",
   "metadata": {},
   "source": [
    "### Задача 8 Строки"
   ]
  },
  {
   "cell_type": "markdown",
   "metadata": {},
   "source": [
    "Даны две строки: s1 и s2 с одинаковым размером, проверьте, может ли некоторая перестановка строки s1 “победить” некоторую перестановку строки s2 или наоборот. Строка x может “победить” строку y (обе имеют размер n), если x[i]> = y [i] (в алфавитном порядке) для всех i от 0 до n-1."
   ]
  },
  {
   "cell_type": "code",
   "execution_count": 8,
   "metadata": {},
   "outputs": [
    {
     "name": "stdout",
     "output_type": "stream",
     "text": [
      "abc, xya --> True\n",
      "abe, acd --> False\n"
     ]
    }
   ],
   "source": [
    "class Call:\n",
    "    def wonStr(s,t):\n",
    "        if (len(s) != len(t)): return False\n",
    "        alist1=list(s)\n",
    "        alist2=list(t)\n",
    "        alist1.sort()\n",
    "        alist2.sort()\n",
    "        pos=0\n",
    "        matches=True\n",
    "        for i in range (0,len(s)):\n",
    "                if alist2[i]>=alist1[i]:\n",
    "                    pos=pos+1\n",
    "                else: matches=False\n",
    "\n",
    "        return matches\n",
    "\n",
    "print(\"abc, xya -->\",Call.wonStr(\"abc\",\"xya\"))\n",
    "print(\"abe, acd -->\",Call.wonStr(\"abe\",\"acd\"))"
   ]
  },
  {
   "cell_type": "markdown",
   "metadata": {},
   "source": [
    "### Задача 9 Строки"
   ]
  },
  {
   "cell_type": "markdown",
   "metadata": {},
   "source": [
    "Дана строка s, вернуть самую длинную полиндромную подстроку в s."
   ]
  },
  {
   "cell_type": "code",
   "execution_count": 9,
   "metadata": {},
   "outputs": [
    {
     "name": "stdout",
     "output_type": "stream",
     "text": [
      "babad --> bab\n",
      "cbbd --> bb\n"
     ]
    }
   ],
   "source": [
    "class Solution:\n",
    "    def longestPalindrome(s):\n",
    "        longest = \"\"\n",
    "\n",
    "        for i, _ in enumerate(s):\n",
    "            candidate = Solution.get_palindrome(s, start = i, end = i)\n",
    "\n",
    "            if len(candidate) > len(longest):\n",
    "                longest = candidate\n",
    "\n",
    "        return longest\n",
    "\n",
    "    @staticmethod\n",
    "    def get_palindrome(s, start, end):\n",
    "        while end + 1 < len(s) and s[end+1] == s[start]:\n",
    "            end += 1\n",
    "\n",
    "        while start > 0 and end + 1 < len(s) and s[start - 1] == s[end + 1]:\n",
    "            start -= 1\n",
    "            end += 1\n",
    "\n",
    "        return s[start:end + 1]\n",
    "\n",
    "print(\"babad -->\", Solution.longestPalindrome(\"babad\"))\n",
    "print(\"cbbd -->\", Solution.longestPalindrome(\"cbbd\"))"
   ]
  },
  {
   "cell_type": "markdown",
   "metadata": {},
   "source": [
    "### Задача 10 Строки"
   ]
  },
  {
   "cell_type": "markdown",
   "metadata": {},
   "source": [
    "Вернуть количество отдельных непустых подстрок текста, которые могут быть записаны как конкатенация некоторой строки с самой собой (т.е. она может быть записана, как a + a, где a - некоторая строка)."
   ]
  },
  {
   "cell_type": "code",
   "execution_count": 10,
   "metadata": {},
   "outputs": [
    {
     "name": "stdout",
     "output_type": "stream",
     "text": [
      "abcabcabc --> 3\n",
      "catacatacat --> 4\n"
     ]
    }
   ],
   "source": [
    "class Solution:\n",
    "    def dist(text):\n",
    "        result = set()\n",
    "        for l in range(1, len(text)//2+1):\n",
    "            count = sum(text[i] == text[i+l] for i in range(l))\n",
    "            for i in range(len(text)-2*l):\n",
    "                if count == l:\n",
    "                    result.add(text[i:i+l])\n",
    "                count += (text[i+l] == text[i+l+l]) - (text[i] == text[i+l])\n",
    "            if count == l:\n",
    "                result.add(text[len(text)-2*l:len(text)-2*l+l])\n",
    "        return len(result)\n",
    "\n",
    "print(\"abcabcabc -->\", Solution.dist(\"abcabcabc\"))\n",
    "print(\"catacatacat -->\", Solution.dist(\"catacatacat\"))"
   ]
  },
  {
   "cell_type": "markdown",
   "metadata": {},
   "source": [
    "### Вывод"
   ]
  },
  {
   "cell_type": "markdown",
   "metadata": {},
   "source": [
    "В ходе курсовой работы мы научились решать 10 различных задач в языке программирования Python 3, направленных на освоение различных тем и компетенций в данном языке программирования."
   ]
  }
 ],
 "metadata": {
  "kernelspec": {
   "display_name": "Python 3",
   "language": "python",
   "name": "python3"
  },
  "language_info": {
   "codemirror_mode": {
    "name": "ipython",
    "version": 3
   },
   "file_extension": ".py",
   "mimetype": "text/x-python",
   "name": "python",
   "nbconvert_exporter": "python",
   "pygments_lexer": "ipython3",
   "version": "3.8.5"
  }
 },
 "nbformat": 4,
 "nbformat_minor": 4
}
