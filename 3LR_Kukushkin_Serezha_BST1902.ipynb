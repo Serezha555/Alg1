{
  "cells": [
    {
      "metadata": {},
      "cell_type": "markdown",
      "source": "# Лабораторная работа №3"
    },
    {
      "metadata": {},
      "cell_type": "markdown",
      "source": "## Выполнил студент группы БСТ1902 Кукушкин С.С."
    },
    {
      "metadata": {},
      "cell_type": "markdown",
      "source": "### Задание 1"
    },
    {
      "metadata": {},
      "cell_type": "markdown",
      "source": "Реализовать методы поиска подстроки в строке. Добавить возможность ввода строки и подстроки с клавиатуры. Предусмотреть возможность существования пробела. Реализовать возможность выбора опции чувствительности или нечувствительности к регистру. Оценить время работы каждого алгоритма поиска и сравнить его со временем работы стандартной функции поиска, используемой в выбранном языке программирования.\n\nАлгоритмы:\n\nКнута-Морриса-Пратта\nУпрощенный Бойера-Мура"
    },
    {
      "metadata": { "trusted": true },
      "cell_type": "code",
      "source": "from IPython.display import HTML, display\nimport ipywidgets as widgets\n\nimport time\n\ndef prefix(s):\n    \"\"\" Префикс-функция от строки s и позиции i в ней - длина k\n        наибольшего собственного префикса подстроки s[0:i],\n        в который одновременно является суффиксом этой подстроки \"\"\"\n    p = [0] * len(s)\n    for i in range(1, len(s)):\n        k = p[i - 1]\n        while k > 0 and s[k] != s[i]:\n            k = p[k - 1]\n        if s[k] == s[i]:\n            k += 1\n        p[i] = k\n    return p",
      "execution_count": 1,
      "outputs": []
    },
    {
      "metadata": { "trusted": true },
      "cell_type": "code",
      "source": "def KMP(s, w):\n    \"\"\" КМП-алгоритм.\n        s: Строка, по которой будет произведен поиск\n        w: Строка, которую будем искать \"\"\"\n    A = []\n    k = 0\n        \n    p = prefix(s)\n\n    for i in range(len(s)):\n        while k > 0 and s[i] != w[k]:\n            k = p[k-1]\n        if s[i] == w[k]:\n            k += 1\n        if k == len(w):\n            A.append((i - len(w) + 1, i+1))\n            k = p[k-1]\n\n    return A",
      "execution_count": 2,
      "outputs": []
    },
    {
      "metadata": {},
      "cell_type": "markdown",
      "source": "### Упрощенный Бойера-Мура"
    },
    {
      "metadata": { "trusted": true },
      "cell_type": "code",
      "source": "def preprocess(w):\n    \"\"\" Строит таблицу смещений \"\"\"\n    T = [len(w)]*256\n    for i in range(len(w) - 1):\n        T[ord(w[i])] = len(w) - 1 - i\n    return T",
      "execution_count": 3,
      "outputs": []
    },
    {
      "metadata": { "trusted": true },
      "cell_type": "code",
      "source": "def BM(s, w):\n    \"\"\" Алгоритм Бойера-Мура \"\"\"\n    A = []\n    T = preprocess(w)\n    skip = 0\n    while len(s) - skip >= len(w):\n        if s[skip:skip + len(w)] == w:\n            A.append((skip, skip + len(w)))\n        skip += T[ord(s[skip + len(w) - 1])]\n    return A",
      "execution_count": 4,
      "outputs": []
    },
    {
      "metadata": {},
      "cell_type": "markdown",
      "source": "### Встроенный поиск"
    },
    {
      "metadata": { "trusted": true },
      "cell_type": "code",
      "source": "def builtin_search(s, w):\n    A = []\n    index = s.find(w)\n    while index != -1:\n        A.append((index, index + len(w)))\n        index = s.find(w, index + 1)\n    return A",
      "execution_count": 5,
      "outputs": []
    },
    {
      "metadata": {},
      "cell_type": "markdown",
      "source": "### Предусмотреть возможность существования пробела. Реализовать возможность выбора опции чувствительности или нечувствительности к регистру."
    },
    {
      "metadata": { "trusted": true },
      "cell_type": "code",
      "source": "def search(s, w, fn=KMP, ignore_case=True, ignore_space=False):\n    \"\"\" Поиск подстроки с возможностью игнорирования пробелов и регистра \"\"\"\n    _s = s\n    _w = w\n    if ignore_case:\n        _s = _s.lower()\n        _w = _w.lower()\n    \n    if ignore_space:\n        _s = _s.replace(' ', '')\n        _w = _w.replace(' ', '')\n\n    A = fn(_s, _w)\n\n    if ignore_space:\n        nonspace = 0\n        kmp_without_space = 0\n        index = 0\n        while kmp_without_space < len(A) and index < len(s):\n            if A[kmp_without_space][0] == nonspace:\n                index_with_space_offsets = index\n                chars_count = 0\n                while chars_count < len(_w) and index_with_space_offsets < len(s):\n                    if s[index_with_space_offsets] != ' ':\n                        chars_count += 1\n                    index_with_space_offsets += 1\n                A[kmp_without_space] = (index, index_with_space_offsets)\n                kmp_without_space += 1\n            if s[index] != ' ': nonspace += 1\n            index += 1\n    \n    return A",
      "execution_count": 6,
      "outputs": []
    },
    {
      "metadata": {},
      "cell_type": "markdown",
      "source": "### Стилизация вывода"
    },
    {
      "metadata": { "trusted": true },
      "cell_type": "code",
      "source": "def substr_display(s, w, **kwargs):\n    A = search(s, w, **kwargs)\n    print('Входная строка:', s)\n    print('Паттерн:', w)\n    print()\n    for i, j in A:\n        display(HTML(f'{s[:i]}<b style=\"color: red\">{s[i:j]}</b>{s[j:]}'))\n    print('\\n\\n')",
      "execution_count": 7,
      "outputs": []
    },
    {
      "metadata": { "trusted": true },
      "cell_type": "code",
      "source": "for alg in (KMP, BM):\n    print(f'АЛГОРИТМ - {alg.__name__}\\n')\n    substr_display('ABCABCABCDABDABDABC', 'ABC', fn=alg)\n    substr_display('AbCABcABCDaBDAbDAbC', 'Abc', fn=alg, ignore_case=True)\n    substr_display('A B C A B C AB CD AB DAB DA BC', 'A b C', fn=alg, ignore_space=True)",
      "execution_count": 8,
      "outputs": [
        {
          "output_type": "stream",
          "text": "АЛГОРИТМ - KMP\n\nВходная строка: ABCABCABCDABDABDABC\nПаттерн: ABC\n\n",
          "name": "stdout"
        },
        {
          "output_type": "display_data",
          "data": {
            "text/plain": "<IPython.core.display.HTML object>",
            "text/html": "<b style=\"color: red\">ABC</b>ABCABCDABDABDABC"
          },
          "metadata": {}
        },
        {
          "output_type": "display_data",
          "data": {
            "text/plain": "<IPython.core.display.HTML object>",
            "text/html": "ABC<b style=\"color: red\">ABC</b>ABCDABDABDABC"
          },
          "metadata": {}
        },
        {
          "output_type": "display_data",
          "data": {
            "text/plain": "<IPython.core.display.HTML object>",
            "text/html": "ABCABC<b style=\"color: red\">ABC</b>DABDABDABC"
          },
          "metadata": {}
        },
        {
          "output_type": "display_data",
          "data": {
            "text/plain": "<IPython.core.display.HTML object>",
            "text/html": "ABCABCABCDABDABD<b style=\"color: red\">ABC</b>"
          },
          "metadata": {}
        },
        {
          "output_type": "stream",
          "text": "\n\n\nВходная строка: AbCABcABCDaBDAbDAbC\nПаттерн: Abc\n\n",
          "name": "stdout"
        },
        {
          "output_type": "display_data",
          "data": {
            "text/plain": "<IPython.core.display.HTML object>",
            "text/html": "<b style=\"color: red\">AbC</b>ABcABCDaBDAbDAbC"
          },
          "metadata": {}
        },
        {
          "output_type": "display_data",
          "data": {
            "text/plain": "<IPython.core.display.HTML object>",
            "text/html": "AbC<b style=\"color: red\">ABc</b>ABCDaBDAbDAbC"
          },
          "metadata": {}
        },
        {
          "output_type": "display_data",
          "data": {
            "text/plain": "<IPython.core.display.HTML object>",
            "text/html": "AbCABc<b style=\"color: red\">ABC</b>DaBDAbDAbC"
          },
          "metadata": {}
        },
        {
          "output_type": "display_data",
          "data": {
            "text/plain": "<IPython.core.display.HTML object>",
            "text/html": "AbCABcABCDaBDAbD<b style=\"color: red\">AbC</b>"
          },
          "metadata": {}
        },
        {
          "output_type": "stream",
          "text": "\n\n\nВходная строка: A B C A B C AB CD AB DAB DA BC\nПаттерн: A b C\n\n",
          "name": "stdout"
        },
        {
          "output_type": "display_data",
          "data": {
            "text/plain": "<IPython.core.display.HTML object>",
            "text/html": "<b style=\"color: red\">A B C</b> A B C AB CD AB DAB DA BC"
          },
          "metadata": {}
        },
        {
          "output_type": "display_data",
          "data": {
            "text/plain": "<IPython.core.display.HTML object>",
            "text/html": "A B C<b style=\"color: red\"> A B C</b> AB CD AB DAB DA BC"
          },
          "metadata": {}
        },
        {
          "output_type": "display_data",
          "data": {
            "text/plain": "<IPython.core.display.HTML object>",
            "text/html": "A B C A B C<b style=\"color: red\"> AB C</b>D AB DAB DA BC"
          },
          "metadata": {}
        },
        {
          "output_type": "display_data",
          "data": {
            "text/plain": "<IPython.core.display.HTML object>",
            "text/html": "A B C A B C AB CD AB DAB D<b style=\"color: red\">A BC</b>"
          },
          "metadata": {}
        },
        {
          "output_type": "stream",
          "text": "\n\n\nАЛГОРИТМ - BM\n\nВходная строка: ABCABCABCDABDABDABC\nПаттерн: ABC\n\n",
          "name": "stdout"
        },
        {
          "output_type": "display_data",
          "data": {
            "text/plain": "<IPython.core.display.HTML object>",
            "text/html": "<b style=\"color: red\">ABC</b>ABCABCDABDABDABC"
          },
          "metadata": {}
        },
        {
          "output_type": "display_data",
          "data": {
            "text/plain": "<IPython.core.display.HTML object>",
            "text/html": "ABC<b style=\"color: red\">ABC</b>ABCDABDABDABC"
          },
          "metadata": {}
        },
        {
          "output_type": "display_data",
          "data": {
            "text/plain": "<IPython.core.display.HTML object>",
            "text/html": "ABCABC<b style=\"color: red\">ABC</b>DABDABDABC"
          },
          "metadata": {}
        },
        {
          "output_type": "display_data",
          "data": {
            "text/plain": "<IPython.core.display.HTML object>",
            "text/html": "ABCABCABCDABDABD<b style=\"color: red\">ABC</b>"
          },
          "metadata": {}
        },
        {
          "output_type": "stream",
          "text": "\n\n\nВходная строка: AbCABcABCDaBDAbDAbC\nПаттерн: Abc\n\n",
          "name": "stdout"
        },
        {
          "output_type": "display_data",
          "data": {
            "text/plain": "<IPython.core.display.HTML object>",
            "text/html": "<b style=\"color: red\">AbC</b>ABcABCDaBDAbDAbC"
          },
          "metadata": {}
        },
        {
          "output_type": "display_data",
          "data": {
            "text/plain": "<IPython.core.display.HTML object>",
            "text/html": "AbC<b style=\"color: red\">ABc</b>ABCDaBDAbDAbC"
          },
          "metadata": {}
        },
        {
          "output_type": "display_data",
          "data": {
            "text/plain": "<IPython.core.display.HTML object>",
            "text/html": "AbCABc<b style=\"color: red\">ABC</b>DaBDAbDAbC"
          },
          "metadata": {}
        },
        {
          "output_type": "display_data",
          "data": {
            "text/plain": "<IPython.core.display.HTML object>",
            "text/html": "AbCABcABCDaBDAbD<b style=\"color: red\">AbC</b>"
          },
          "metadata": {}
        },
        {
          "output_type": "stream",
          "text": "\n\n\nВходная строка: A B C A B C AB CD AB DAB DA BC\nПаттерн: A b C\n\n",
          "name": "stdout"
        },
        {
          "output_type": "display_data",
          "data": {
            "text/plain": "<IPython.core.display.HTML object>",
            "text/html": "<b style=\"color: red\">A B C</b> A B C AB CD AB DAB DA BC"
          },
          "metadata": {}
        },
        {
          "output_type": "display_data",
          "data": {
            "text/plain": "<IPython.core.display.HTML object>",
            "text/html": "A B C<b style=\"color: red\"> A B C</b> AB CD AB DAB DA BC"
          },
          "metadata": {}
        },
        {
          "output_type": "display_data",
          "data": {
            "text/plain": "<IPython.core.display.HTML object>",
            "text/html": "A B C A B C<b style=\"color: red\"> AB C</b>D AB DAB DA BC"
          },
          "metadata": {}
        },
        {
          "output_type": "display_data",
          "data": {
            "text/plain": "<IPython.core.display.HTML object>",
            "text/html": "A B C A B C AB CD AB DAB D<b style=\"color: red\">A BC</b>"
          },
          "metadata": {}
        },
        {
          "output_type": "stream",
          "text": "\n\n\n",
          "name": "stdout"
        }
      ]
    },
    {
      "metadata": {},
      "cell_type": "markdown",
      "source": "### Сравнение алгоритмов"
    },
    {
      "metadata": { "trusted": true },
      "cell_type": "code",
      "source": "bench_count = 10\n\ntime_consumed = {}\nfor alg in (KMP, BM, builtin_search):\n    time_start = time.perf_counter()\n    for i in range(bench_count):\n        alg('ABCABCABCDABDABDABC', 'ABC')\n        alg('ADBCHDBDBAHBCBACBDBEHABBBVHABBBVHABDAVHHCBABCB', 'AB')\n    time_end = time.perf_counter()\n    time_consumed[alg.__name__] = (time_end - time_start) / bench_count\n\nsorted_time = sorted(time_consumed.items(), key=lambda kv: kv[1])",
      "execution_count": 9,
      "outputs": []
    },
    {
      "metadata": {},
      "cell_type": "markdown",
      "source": "### Добавить возможность ввода строки и подстроки с клавиатуры"
    },
    {
      "metadata": { "trusted": true },
      "cell_type": "code",
      "source": "search_string = widgets.Text(\n    description='Строка',\n    placeholder='Введите строку'\n)\nsearch_pattern = widgets.Text(\n    description='Паттерн',\n    placeholder='Введите строку'\n)\n\nignore_case = widgets.Checkbox(\n    value=False,\n    description='Игнорировать регистр'\n)\n\nignore_space = widgets.Checkbox(\n    value=False,\n    description='Игнорировать пробел'\n)\n\nalgs = {'KMP': KMP, 'BM': BM, 'Builtin': builtin_search}\nalg = widgets.Dropdown(\n    options=['KMP', 'BM', 'Builtin'],\n    value='KMP',\n    description='Алгоритм'\n)\n\nresult = widgets.HTML()\n\ndef update(c):\n    if search_string.value and search_pattern.value:\n        try:\n            s = search_string.value\n            A = search(s, search_pattern.value, algs[alg.value], ignore_case.value, ignore_space.value)\n            result.value = ''\n            for i, j in A:\n                result.value += f'<div>{s[:i]}<b style=\"color: red\">{s[i:j]}</b>{s[j:]}</div>'\n        except Exception as e:\n            result.value = str(e)\n\nsearch_string.observe(update)\nsearch_pattern.observe(update)\nignore_case.observe(update)\nignore_space.observe(update)\nalg.observe(update)\n\nupdate({})\n\nwidgets.VBox([\n    search_string,\n    search_pattern,\n    alg,\n    ignore_case,\n    ignore_space,\n    result\n])",
      "execution_count": 10,
      "outputs": [
        {
          "output_type": "display_data",
          "data": {
            "text/plain": "VBox(children=(Text(value='', description='Строка', placeholder='Введите строку'), Text(value='', description=…",
            "application/vnd.jupyter.widget-view+json": {
              "version_major": 2,
              "version_minor": 0,
              "model_id": "9eefc5028fb04e1a93dbc4a969c31b28"
            }
          },
          "metadata": {}
        }
      ]
    },
    {
      "metadata": {},
      "cell_type": "markdown",
      "source": "### Задание 2 «Пятнашки»"
    },
    {
      "metadata": {},
      "cell_type": "markdown",
      "source": "Игра в 15, пятнашки, такен — популярная головоломка, придуманная в 1878 году Но ем Чепм эном. Она предст авляет собой набор одинаковых квадратных костяшек с нанесёнными числами, заключённых в квадратную коробку. Длина стороны коробки в четыре раза больше длины стороны костяшек для набора из 15 элементов, соответственно в коробке остаётся незаполненным одно квадратное поле. Цель игры — перемещая костяшки по коробке, добиться упорядочивания их по номерам, желательно сделав как можно меньше перемещений.\n\nНа рисунках выше изображены различные позиции элементов в задаче:\n\nЛевый рисунок — одна из возможных начальных позиций элементов. Средний рисунок — одна из «нерешаемых» позиций. Правый рисунок — позиция, где все элементы расставлены в правильном порядке. Задача: написать программу, определяющую, является ли данное расположение «решаемым», то есть можно ли из него за конечное число шагов перейти к правильному. Если это возможно, то необходимо найти хотя бы одно решение - последовательность движений, после которой числа будут расположены в правильном порядке.\n\nВходные данные: массив чисел, представляющий собой расстановку в порядке «слева направо, сверху вниз». Число 0 обозначает пустое поле. Например, массив [1, 2, 3, 4, 5, 6, 7, 8, 9, 10, 11, 12, 13, 14, 15, 0] представляет собой «решенную» позицию элементов.\n\nВыходные данные: если решения нет, то функция должна вернуть пустой массив []. Если решение есть, то необходимо представить решение — для каждого шага записывается номер передвигаемого на данном шаге элемента.\n\nНапример, для начального расположения элементов [1, 2, 3, 4, 5, 6, 7, 8, 13, 9, 11, 12, 10, 14, 15, 0] одним из возможных решений будет [15, 14, 10, 13, 9, 10, 14, 15] (последовательность шагов здесь: двигаем 15, двигаем 14, двигаем 10, ..., двигаем 15)."
    },
    {
      "metadata": { "trusted": true },
      "cell_type": "code",
      "source": "from queue import PriorityQueue\n\nN = 4\n\ndef moves(position):\n    blank = position.index(0)\n    i, j = divmod(blank, N)\n    offsets = []\n    if i > 0: offsets.append(-N)     # вниз\n    if i < N - 1: offsets.append(N)  # вверх\n    if j > 0: offsets.append(-1)     # вправо\n    if j < N - 1: offsets.append(1)  # влево\n    for offset in offsets:\n        swap = blank + offset\n        yield tuple(position[swap] if x==blank else position[blank] if x==swap else position[x] for x in range(N*N))\n\n\ndef parity(permutation):\n    seen, cycles = set(), 0\n    for i in permutation:\n        if i not in seen:\n            cycles += 1\n            while i not in seen:\n                seen.add(i)\n                i = permutation[i]\n    return (cycles + len(permutation)) % 2\n\n\nclass Position:\n    def __init__(self, position, start_distance):\n        self.position = position\n        self.start_distance = start_distance\n\n    def __lt__(self, other):\n        return self.start_distance < other.start_distance\n\n    def __str__(self):\n        return '\\n'.join((N*'{:3}').format(*[i%(N*N) for i in self.position[i:]]) for i in range(0, N*N, N))\n\nSOLVED = (1, 2, 3, 4, 5, 6, 7, 8, 9, 10, 11, 12, 13, 14, 15, 0)\n\nstart = [1, 2, 3, 4, 5, 6, 7, 8, 13, 9, 11, 12, 10, 14, 15, 0]\n\nif parity(start) == 0:\n    # https://en.wikipedia.org/wiki/15_puzzle#Solvability\n    print('Нерешаемо')\nelse:\n    start = tuple(start)\n\n    p = Position(start, 0)\n\n    print(p)\n    print()\n\n    candidates = PriorityQueue()\n    candidates.put(p)\n\n    visited = set([p])\n\n    came_from = {p.position: None}\n    \n    while p.position != SOLVED:\n        p = candidates.get()\n        for k in moves(p.position):\n            if k not in visited:\n                candidates.put(Position(k, p.start_distance + 1))\n                came_from[k] = p\n                visited.add(k)\n\n    path = []\n    prev = p\n    while p.position != start:\n        p = came_from[p.position]\n        number = p.position[prev.position.index(0)]\n        path.append(number)\n        prev = p\n    path.reverse()\n\n    print(path)",
      "execution_count": 11,
      "outputs": [
        {
          "output_type": "stream",
          "text": "  1  2  3  4\n  5  6  7  8\n 13  9 11 12\n 10 14 15  0\n\n[15, 14, 10, 13, 9, 10, 14, 15]\n",
          "name": "stdout"
        }
      ]
    }
  ],
  "metadata": {
    "kernelspec": {
      "name": "python3",
      "display_name": "Python 3",
      "language": "python"
    },
    "language_info": {
      "name": "python",
      "version": "3.6.11",
      "mimetype": "text/x-python",
      "codemirror_mode": {
        "name": "ipython",
        "version": 3
      },
      "pygments_lexer": "ipython3",
      "nbconvert_exporter": "python",
      "file_extension": ".py"
    }
  },
  "nbformat": 4,
  "nbformat_minor": 2
}