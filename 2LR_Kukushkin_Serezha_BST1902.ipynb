{
  "cells": [
    {
      "metadata": {},
      "cell_type": "markdown",
      "source": "# Лабораторная работа №2"
    },
    {
      "metadata": {},
      "cell_type": "markdown",
      "source": "## Выполнил студент группы БСТ1902 Кукушкин С.С."
    },
    {
      "metadata": {},
      "cell_type": "markdown",
      "source": "Реализовать методы поиска в соответствии с заданием. Организовать генерацию начального набора случайных данных. Для всех вариантов добавить реализацию добавления, поиска и удаления элементов. Оценить время работы каждого алгоритма поиска и сравнить его со временем работы стандартной функции поиска, используемой в выбранном языке программирования."
    },
    {
      "metadata": {},
      "cell_type": "markdown",
      "source": "### Задание №1"
    },
    {
      "metadata": { "trusted": true },
      "cell_type": "code",
      "source": "import random\nimport time",
      "execution_count": 1,
      "outputs": []
    },
    {
      "metadata": { "trusted": true },
      "cell_type": "code",
      "source": "def random_arr(m = 50, min_limit = -250, max_limit = 1009):\n    import random\n    return [random.randint(min_limit, max_limit) for _ in range(m)]",
      "execution_count": 2,
      "outputs": []
    },
    {
      "metadata": { "trusted": true },
      "cell_type": "code",
      "source": "def BinSearch(arr, x):\n    i = 0\n    j = len(arr)-1\n    while i < j:\n        m = int((i+j)/2)\n        if x > arr[m]:\n            i = m+1\n        else:\n            j = m\n    return j",
      "execution_count": 3,
      "outputs": []
    },
    {
      "metadata": { "trusted": true },
      "cell_type": "code",
      "source": "newMatrix = random_arr(15, -25, 100)\nnewMatrix.sort()\nprint (newMatrix)\nk=10\ng=BinSearch(newMatrix, k)\nif newMatrix[g] == k:\n    print (\"Это элемент под номером \",g)\nelse: print (\"Данного элемента в массиве нет\")\nprint (\"Хотите добавить данный элемент в массив?\")\ns=(input())\nif s == \"да\":\n    newMatrix.insert(g, k)\n    print (newMatrix)\nif newMatrix[g] == k: \n    print (\"Хотите удалить данный элемент из массива?\")\n    s=(input())\n    if s == \"да\":\n        newMatrix.pop(g)\n        print (newMatrix)",
      "execution_count": 4,
      "outputs": [
        {
          "output_type": "stream",
          "text": "[-12, -12, -7, -6, 7, 8, 8, 33, 43, 47, 71, 84, 89, 97, 98]\nДанного элемента в массиве нет\nХотите добавить данный элемент в массив?\nда\n[-12, -12, -7, -6, 7, 8, 8, 10, 33, 43, 47, 71, 84, 89, 97, 98]\nХотите удалить данный элемент из массива?\nда\n[-12, -12, -7, -6, 7, 8, 8, 33, 43, 47, 71, 84, 89, 97, 98]\n",
          "name": "stdout"
        }
      ]
    },
    {
      "metadata": { "trusted": true },
      "cell_type": "code",
      "source": "def FibonacciSearch(lys, val):\n    fibM_minus_2 = 0 \n    fibM_minus_1 = 1  \n    fibM = fibM_minus_1 + fibM_minus_2\n    while (fibM < len(lys)):\n        fibM_minus_2 = fibM_minus_1\n        fibM_minus_1 = fibM\n        fibM = fibM_minus_1 + fibM_minus_2\n    index = -1;\n    while (fibM > 1):\n        i = min(index + fibM_minus_2, (len(lys)-1))\n        if (lys[i] < val):\n            fibM = fibM_minus_1\n            fibM_minus_1 = fibM_minus_2\n            fibM_minus_2 = fibM - fibM_minus_1\n            index = i\n        elif (lys[i] > val):\n            fibM = fibM_minus_2\n            fibM_minus_1 = fibM_minus_1 - fibM_minus_2\n            fibM_minus_2 = fibM - fibM_minus_1\n        else :\n            return i\n    if(fibM_minus_1 and index<(len(lys)-1) and lys[index+1] == val):\n        return index+1;\n    return -1\nfrom random import randint",
      "execution_count": 5,
      "outputs": []
    },
    {
      "metadata": { "trusted": true },
      "cell_type": "code",
      "source": "newMatrix=[4,5,6,1,2,3]\nnewMatrix.sort()\nprint (newMatrix)\nk=3\nn=len(newMatrix)\ng=FibonacciSearch(newMatrix, k)\nif newMatrix[g] == k:\n    print (\"Это элемент под номером \",g)\nelse: print (\"Данного элемента в массиве нет\")\nprint (\"Хотите добавить данный элемент в массив?\")\ns=(input())\nif s == \"да\":\n    newMatrix.insert(g, k)\n    print (newMatrix)\nif newMatrix[g] == k: \n    print (\"Хотите удалить данный элемент из массива?\")\n    s=(input())\n    if s == \"да\":\n        newMatrix.pop(g)\n        print (newMatrix)",
      "execution_count": 6,
      "outputs": [
        {
          "output_type": "stream",
          "text": "[1, 2, 3, 4, 5, 6]\nЭто элемент под номером  2\nХотите добавить данный элемент в массив?\nда\n[1, 2, 3, 3, 4, 5, 6]\nХотите удалить данный элемент из массива?\nнет\n",
          "name": "stdout"
        }
      ]
    },
    {
      "metadata": { "trusted": true },
      "cell_type": "code",
      "source": "def interpolation(a, k) : \n    left = 0  \n    right = len(a) - 1  \n    while a[left] < k and k < a[right]:\n        mid = int(left + (k - a[left]) * (right - left) / (a[right] - a[left]))  \n        if a[mid] < k:\n            left = mid + 1\n        elif a[mid] > k:\n            right = mid - 1\n        else:\n            return mid\n\n    if a[left] == k:\n        return left\n    elif a[right] == k:\n        return right\n    else:\n        return left",
      "execution_count": 7,
      "outputs": []
    },
    {
      "metadata": { "trusted": true },
      "cell_type": "code",
      "source": "newMatrix = random_arr(15, -25, 100)\nnewMatrix.sort()\nprint (newMatrix)\nk=3\ng=interpolation(newMatrix, k)\nif newMatrix[g] == k:\n    print (\"Это элемент под номером \",g)\nelse: print (\"Данного элемента в массиве нет\")\nprint (\"Хотите добавить данный элемент в массив?\")\ns=(input())\nif s == \"да\":\n    newMatrix.insert(g, k)\n    print (newMatrix)\nif newMatrix[g] == k: \n    print (\"Хотите удалить данный элемент из массива?\")\n    s=(input())\n    if s == \"да\":\n        newMatrix.pop(g)\n        print (newMatrix)",
      "execution_count": 8,
      "outputs": [
        {
          "output_type": "stream",
          "text": "[-21, -19, -14, 13, 16, 26, 43, 54, 62, 64, 72, 72, 75, 82, 85]\nДанного элемента в массиве нет\nХотите добавить данный элемент в массив?\nда\n[3, -21, -19, -14, 13, 16, 26, 43, 54, 62, 64, 72, 72, 75, 82, 85]\nХотите удалить данный элемент из массива?\nнет\n",
          "name": "stdout"
        }
      ]
    },
    {
      "metadata": { "trusted": true },
      "cell_type": "code",
      "source": "class node:\n    def __init__(self, data = None, left = None, right = None):\n        self.data   = data\n        self.left   = left\n        self.right  = right\n        \n    def insert(self, data):\n        if self.data:\n            if data < self.data:\n                if self.left is None:\n                    self.left = node(data)\n                else:\n                    self.left.insert(data)\n            elif data > self.data:\n                if self.right is None:\n                    self.right = node(data)\n                else:\n                    self.right.insert(data)\n        else:\n            self.data = data\n            \n    def findval(self, lkpval):\n        if lkpval < self.data:\n            if self.left is None:\n                return str(lkpval)+\" Not Found\"\n            return self.left.findval(lkpval)\n        elif lkpval > self.data:\n            if self.right is None:\n                return str(lkpval)+\" Not Found\"\n            return self.right.findval(lkpval)\n        else:\n            print(str(self.data) + ' is found')\n\n    def PrintTree(self):\n        if self.left:\n            self.left.PrintTree()\n        print( self.data),\n        if self.right:\n            self.right.PrintTree()\n            \nroot = node(12)\nroot.insert(6)\nroot.insert(14)\nroot.insert(3)\nprint(root.findval(5))\nprint(root.findval(12))",
      "execution_count": 9,
      "outputs": [
        {
          "output_type": "stream",
          "text": "5 Not Found\n12 is found\nNone\n",
          "name": "stdout"
        }
      ]
    },
    {
      "metadata": {},
      "cell_type": "markdown",
      "source": "### Задание №2"
    },
    {
      "metadata": { "trusted": true },
      "cell_type": "code",
      "source": "class HashMap:\n    def Fhash (a, id):\n        n=64\n        i=0\n        hash = (ord(id[0])+ord(id[len(id)//2])+ord(id[len(id)-1])+i)//n\n        if a[hash] == None:\n            a[hash]=id\n        else:\n            k=hash\n            i=i+1\n            while (a[hash]!=None) and (hash !=255):\n                hash = (ord(id[0])+ord(id[len(id)//2])+ord(id[len(id)-1])+i)//n\n                i=i+1\n            if a[hash] == None:\n                a[hash]=id\n            else:\n                hash = i//n\n                while (a[hash]!=None) or (hash !=k):\n                    hash = i//n\n                    i=i+1\n                if a[hash] == None:\n                    a[hash]=id\n                else:\n                    print (\"There are no places in the table\")\n        return a\n    \n    def Fhashsearch (a, id):\n        n=256\n        i=0\n        hash = (ord(id[0])+ord(id[len(id)//2])+ord(id[len(id)-1])+i)//n\n        if a[hash] == id:\n            return hash\n        else:\n            k=hash\n            i=i+1\n            while (a[hash]!=id) and (hash !=255):\n                hash = (ord(id[0])+ord(id[len(id)//2])+ord(id[len(id)-1])+i)//n\n                i=i+1\n        if a[hash] == id:\n            return hash\n        else:\n            hash = i//n\n            while (a[hash]!=id) and (hash <250):\n                hash = i//n\n                i=i+1\n            if a[hash] == id:\n                return hash\n            else:\n                print (\"Идентификатор не найден\")\n    def Fhashdel (a, id, n):\n        a[n]=None\n        return (a)",
      "execution_count": 10,
      "outputs": []
    },
    {
      "metadata": { "trusted": true },
      "cell_type": "code",
      "source": "a=[None]*64\nprint (\"Хотите добавить новый идентификатор в таблицу?\")\ns=(input())\nif s == \"да\":\n    while s ==\"да\":\n        id=(input())\n        HashMap.Fhash (a, id)\n        print (\"Хотите добавить новый идентификатор в таблицу?\")\n        s=(input())\nprint (a)\nprint (\"Хотите найти идентификатор в таблице?\")\nk=(input())\nif k == \"да\":\n    while k ==\"да\":\n        id=(input())\n        hash =HashMap.Fhashsearch (a, id)\n        print (hash)\n        print (\"Хотите найти идентификатор в таблице?\")\n        k=(input())\n    if hash!= None:\n        print (\"Хотите удалить идентификатор из таблицы?\")\n        k=(input())\n        if k == \"да\":\n            HashMap.Fhashdel(a, id, hash)\n            print (a)",
      "execution_count": 12,
      "outputs": [
        {
          "output_type": "stream",
          "text": "Хотите добавить новый идентификатор в таблицу?\nда\n5\nХотите добавить новый идентификатор в таблицу?\nнет\n[None, None, '5', None, None, None, None, None, None, None, None, None, None, None, None, None, None, None, None, None, None, None, None, None, None, None, None, None, None, None, None, None, None, None, None, None, None, None, None, None, None, None, None, None, None, None, None, None, None, None, None, None, None, None, None, None, None, None, None, None, None, None, None, None]\nХотите найти идентификатор в таблице?\nда\n5\n2\nХотите найти идентификатор в таблице?\nнет\nХотите удалить идентификатор из таблицы?\nда\n[None, None, None, None, None, None, None, None, None, None, None, None, None, None, None, None, None, None, None, None, None, None, None, None, None, None, None, None, None, None, None, None, None, None, None, None, None, None, None, None, None, None, None, None, None, None, None, None, None, None, None, None, None, None, None, None, None, None, None, None, None, None, None, None]\n",
          "name": "stdout"
        }
      ]
    },
    {
      "metadata": { "trusted": true },
      "cell_type": "code",
      "source": "class RandomHashMap:\n    def Fhash2 (a, id, i):\n        import random\n        i=i+1\n        if i<63:\n            n=64\n            hash = (ord(id[0])+ord(id[len(id)//2])+ord(id[len(id)-1])+random.randint(0, 1500))//n\n            if a[hash] == None:\n                a[hash]=id\n            else:\n                k=hash\n                while (a[hash]!=None):\n                    hash = (ord(id[0])+ord(id[len(id)//2])+ord(id[len(id)-1])+random.randint(0, 1500))//n\n\n        else:\n            print (\"There are no places in the table\")\n        return a\n    def Fhashsearch2(a, id):\n        i=0\n        while i<63 and a[i]!=id:\n            i=i+1\n        if a[i]==id:\n            return i\n        else:\n             print (\"Идентификатор не найден\") \n    def FhashDel2(a, id):\n        i=0\n        while i<63 and a[i]!=id:\n            i=i+1\n        if a[i]==id:\n            a[i]=None\n            return a\n        else:\n             print (\"Идентификатор не найден\")",
      "execution_count": 13,
      "outputs": []
    },
    {
      "metadata": { "trusted": true },
      "cell_type": "code",
      "source": "a=[None]*64\ni=0\nprint (\"Хотите добавить новый идентификатор в таблицу?\")\ns=(input())\nif s == \"да\":\n    while s ==\"да\":\n        id=(input())\n        RandomHashMap.Fhash2 (a, id, i)\n        print (\"Хотите добавить новый идентификатор в таблицу?\")\n        s=(input())\nprint (a)\nprint (\"Хотите найти идентификатор в таблице?\")\nk=(input())\nif k == \"да\":\n    while k ==\"да\":\n        id=(input())\n        hash =RandomHashMap.Fhashsearch2 (a, id)\n        print (hash)\n        print (\"Хотите найти идентификатор в таблице?\")\n        k=(input())\n    if hash!= None:\n        print (\"Хотите удалить идентификатор из таблицы?\")\n        k=(input())\n        if k == \"да\":\n            RandomHashMap.Fhashdel2 (a, id)\n            print (a)",
      "execution_count": 14,
      "outputs": [
        {
          "output_type": "stream",
          "text": "Хотите добавить новый идентификатор в таблицу?\nда\n5\nХотите добавить новый идентификатор в таблицу?\nда\n55\nХотите добавить новый идентификатор в таблицу?\nда\n555\nХотите добавить новый идентификатор в таблицу?\nнет\n[None, None, None, None, None, None, None, None, None, None, None, None, None, '5', '555', None, None, None, None, None, None, None, None, None, None, None, None, None, None, None, None, None, None, None, None, None, None, None, None, None, None, None, None, None, None, None, None, None, None, None, None, None, None, None, None, None, None, None, None, None, None, None, None, None]\nХотите найти идентификатор в таблице?\nнет\n",
          "name": "stdout"
        }
      ]
    },
    {
      "metadata": { "trusted": true },
      "cell_type": "code",
      "source": "class ChainMap:\n    def Chainmethod (arr, id):\n        h=0\n        for i in range (0, len(id)):\n            h=ord(id[i])+h\n        key=h%10\n        arr[key].append(id)\n        return key\n    def ChainmethodSearch (a, id):\n        h=0\n        for i in range (0, len(id)):\n            h=ord(id[i])+h\n        key=h%10\n        k=0\n        for i in range (len(a[key])):\n            if a[key][i]==id:\n                print(\"Строка \", key, \"Элемент \", i)\n                k=1\n        if k==0:\n            print(\"Идентификатор не найден\")\n            return (1)\n\n    def ChainmethodDeletions (a, id):\n        h=0\n        for i in range (0, len(id)):\n            h=ord(id[i])+h\n        key=h%10\n        for i in range (len(a[key])):\n            if a[key][i]==id:\n                del(a[key][i])\n        return (key)",
      "execution_count": 15,
      "outputs": []
    },
    {
      "metadata": { "trusted": true },
      "cell_type": "code",
      "source": "key=[[]*1 for i in range (10)]\nprint (\"Хотите добавить новый идентификатор в таблицу?\")\ns=(input())\nif s == \"да\":\n    while s ==\"да\":\n        id=(input())\n        x=ChainMap.Chainmethod (key, id)\n        print (\"Хотите добавить новый идентификатор в таблицу?\")\n        s=(input())\nprint (key)\n\nprint (\"Хотите найти идентификатор в таблице?\")\nk=(input())\nif k == \"да\":\n    while k ==\"да\":\n        id=(input())\n        hash =ChainMap.ChainmethodSearch (key, id)\n        print (\"Хотите найти идентификатор в таблице?\")\n        k=(input())\n    if hash!= 1:\n        print (\"Хотите удалить идентификатор из таблицы?\")\n        k=(input())\n        if k == \"да\":\n            hash =ChainMap.ChainmethodDeletions (key, id)\n            print (key)",
      "execution_count": 16,
      "outputs": [
        {
          "output_type": "stream",
          "text": "Хотите добавить новый идентификатор в таблицу?\nда\n5\nХотите добавить новый идентификатор в таблицу?\nда\n55\nХотите добавить новый идентификатор в таблицу?\nнет\n[[], [], [], ['5'], [], [], ['55'], [], [], []]\nХотите найти идентификатор в таблице?\nнет\n",
          "name": "stdout"
        }
      ]
    },
    {
      "metadata": {},
      "cell_type": "markdown",
      "source": "### Задание №3"
    },
    {
      "metadata": { "trusted": true },
      "cell_type": "code",
      "source": "from IPython.display import HTML, display",
      "execution_count": 17,
      "outputs": []
    },
    {
      "metadata": { "trusted": true },
      "cell_type": "code",
      "source": "def tag(x, color='white'):\n    return f'<td style=\"width:24px;height:24px;text-align:center;\" bgcolor=\"{color}\">{x}</td>'\nth = ''.join(map(tag, ' abcdefgh '))\ndef chessboard(data):\n    row = lambda i: ''.join([\n        tag('<span style=\"font-size:24px\">♛</span>' * v,\n            color='white' if (i+j+1)%2 else 'silver')\n        for j, v in enumerate(data[i])])\n    tb = ''.join([f'<tr>{tag(8-i)}{row(i)}{tag(8-i)}</tr>' for i in range(len(data))])\n    return HTML(f'<table>{th}{tb}{th}</table>')",
      "execution_count": 18,
      "outputs": []
    },
    {
      "metadata": { "trusted": true },
      "cell_type": "code",
      "source": "# создаю пустую доску\n# это матрица 8 на 8, где нулевые значения означают пустоту, а единицы - ферзя\narr = [[0] * 8 for i in range(8)]\narr[1][2] = 1\nchessboard(arr)",
      "execution_count": 19,
      "outputs": [
        {
          "output_type": "execute_result",
          "execution_count": 19,
          "data": {
            "text/plain": "<IPython.core.display.HTML object>",
            "text/html": "<table><td style=\"width:24px;height:24px;text-align:center;\" bgcolor=\"white\"> </td><td style=\"width:24px;height:24px;text-align:center;\" bgcolor=\"white\">a</td><td style=\"width:24px;height:24px;text-align:center;\" bgcolor=\"white\">b</td><td style=\"width:24px;height:24px;text-align:center;\" bgcolor=\"white\">c</td><td style=\"width:24px;height:24px;text-align:center;\" bgcolor=\"white\">d</td><td style=\"width:24px;height:24px;text-align:center;\" bgcolor=\"white\">e</td><td style=\"width:24px;height:24px;text-align:center;\" bgcolor=\"white\">f</td><td style=\"width:24px;height:24px;text-align:center;\" bgcolor=\"white\">g</td><td style=\"width:24px;height:24px;text-align:center;\" bgcolor=\"white\">h</td><td style=\"width:24px;height:24px;text-align:center;\" bgcolor=\"white\"> </td><tr><td style=\"width:24px;height:24px;text-align:center;\" bgcolor=\"white\">8</td><td style=\"width:24px;height:24px;text-align:center;\" bgcolor=\"white\"></td><td style=\"width:24px;height:24px;text-align:center;\" bgcolor=\"silver\"></td><td style=\"width:24px;height:24px;text-align:center;\" bgcolor=\"white\"></td><td style=\"width:24px;height:24px;text-align:center;\" bgcolor=\"silver\"></td><td style=\"width:24px;height:24px;text-align:center;\" bgcolor=\"white\"></td><td style=\"width:24px;height:24px;text-align:center;\" bgcolor=\"silver\"></td><td style=\"width:24px;height:24px;text-align:center;\" bgcolor=\"white\"></td><td style=\"width:24px;height:24px;text-align:center;\" bgcolor=\"silver\"></td><td style=\"width:24px;height:24px;text-align:center;\" bgcolor=\"white\">8</td></tr><tr><td style=\"width:24px;height:24px;text-align:center;\" bgcolor=\"white\">7</td><td style=\"width:24px;height:24px;text-align:center;\" bgcolor=\"silver\"></td><td style=\"width:24px;height:24px;text-align:center;\" bgcolor=\"white\"></td><td style=\"width:24px;height:24px;text-align:center;\" bgcolor=\"silver\"><span style=\"font-size:24px\">♛</span></td><td style=\"width:24px;height:24px;text-align:center;\" bgcolor=\"white\"></td><td style=\"width:24px;height:24px;text-align:center;\" bgcolor=\"silver\"></td><td style=\"width:24px;height:24px;text-align:center;\" bgcolor=\"white\"></td><td style=\"width:24px;height:24px;text-align:center;\" bgcolor=\"silver\"></td><td style=\"width:24px;height:24px;text-align:center;\" bgcolor=\"white\"></td><td style=\"width:24px;height:24px;text-align:center;\" bgcolor=\"white\">7</td></tr><tr><td style=\"width:24px;height:24px;text-align:center;\" bgcolor=\"white\">6</td><td style=\"width:24px;height:24px;text-align:center;\" bgcolor=\"white\"></td><td style=\"width:24px;height:24px;text-align:center;\" bgcolor=\"silver\"></td><td style=\"width:24px;height:24px;text-align:center;\" bgcolor=\"white\"></td><td style=\"width:24px;height:24px;text-align:center;\" bgcolor=\"silver\"></td><td style=\"width:24px;height:24px;text-align:center;\" bgcolor=\"white\"></td><td style=\"width:24px;height:24px;text-align:center;\" bgcolor=\"silver\"></td><td style=\"width:24px;height:24px;text-align:center;\" bgcolor=\"white\"></td><td style=\"width:24px;height:24px;text-align:center;\" bgcolor=\"silver\"></td><td style=\"width:24px;height:24px;text-align:center;\" bgcolor=\"white\">6</td></tr><tr><td style=\"width:24px;height:24px;text-align:center;\" bgcolor=\"white\">5</td><td style=\"width:24px;height:24px;text-align:center;\" bgcolor=\"silver\"></td><td style=\"width:24px;height:24px;text-align:center;\" bgcolor=\"white\"></td><td style=\"width:24px;height:24px;text-align:center;\" bgcolor=\"silver\"></td><td style=\"width:24px;height:24px;text-align:center;\" bgcolor=\"white\"></td><td style=\"width:24px;height:24px;text-align:center;\" bgcolor=\"silver\"></td><td style=\"width:24px;height:24px;text-align:center;\" bgcolor=\"white\"></td><td style=\"width:24px;height:24px;text-align:center;\" bgcolor=\"silver\"></td><td style=\"width:24px;height:24px;text-align:center;\" bgcolor=\"white\"></td><td style=\"width:24px;height:24px;text-align:center;\" bgcolor=\"white\">5</td></tr><tr><td style=\"width:24px;height:24px;text-align:center;\" bgcolor=\"white\">4</td><td style=\"width:24px;height:24px;text-align:center;\" bgcolor=\"white\"></td><td style=\"width:24px;height:24px;text-align:center;\" bgcolor=\"silver\"></td><td style=\"width:24px;height:24px;text-align:center;\" bgcolor=\"white\"></td><td style=\"width:24px;height:24px;text-align:center;\" bgcolor=\"silver\"></td><td style=\"width:24px;height:24px;text-align:center;\" bgcolor=\"white\"></td><td style=\"width:24px;height:24px;text-align:center;\" bgcolor=\"silver\"></td><td style=\"width:24px;height:24px;text-align:center;\" bgcolor=\"white\"></td><td style=\"width:24px;height:24px;text-align:center;\" bgcolor=\"silver\"></td><td style=\"width:24px;height:24px;text-align:center;\" bgcolor=\"white\">4</td></tr><tr><td style=\"width:24px;height:24px;text-align:center;\" bgcolor=\"white\">3</td><td style=\"width:24px;height:24px;text-align:center;\" bgcolor=\"silver\"></td><td style=\"width:24px;height:24px;text-align:center;\" bgcolor=\"white\"></td><td style=\"width:24px;height:24px;text-align:center;\" bgcolor=\"silver\"></td><td style=\"width:24px;height:24px;text-align:center;\" bgcolor=\"white\"></td><td style=\"width:24px;height:24px;text-align:center;\" bgcolor=\"silver\"></td><td style=\"width:24px;height:24px;text-align:center;\" bgcolor=\"white\"></td><td style=\"width:24px;height:24px;text-align:center;\" bgcolor=\"silver\"></td><td style=\"width:24px;height:24px;text-align:center;\" bgcolor=\"white\"></td><td style=\"width:24px;height:24px;text-align:center;\" bgcolor=\"white\">3</td></tr><tr><td style=\"width:24px;height:24px;text-align:center;\" bgcolor=\"white\">2</td><td style=\"width:24px;height:24px;text-align:center;\" bgcolor=\"white\"></td><td style=\"width:24px;height:24px;text-align:center;\" bgcolor=\"silver\"></td><td style=\"width:24px;height:24px;text-align:center;\" bgcolor=\"white\"></td><td style=\"width:24px;height:24px;text-align:center;\" bgcolor=\"silver\"></td><td style=\"width:24px;height:24px;text-align:center;\" bgcolor=\"white\"></td><td style=\"width:24px;height:24px;text-align:center;\" bgcolor=\"silver\"></td><td style=\"width:24px;height:24px;text-align:center;\" bgcolor=\"white\"></td><td style=\"width:24px;height:24px;text-align:center;\" bgcolor=\"silver\"></td><td style=\"width:24px;height:24px;text-align:center;\" bgcolor=\"white\">2</td></tr><tr><td style=\"width:24px;height:24px;text-align:center;\" bgcolor=\"white\">1</td><td style=\"width:24px;height:24px;text-align:center;\" bgcolor=\"silver\"></td><td style=\"width:24px;height:24px;text-align:center;\" bgcolor=\"white\"></td><td style=\"width:24px;height:24px;text-align:center;\" bgcolor=\"silver\"></td><td style=\"width:24px;height:24px;text-align:center;\" bgcolor=\"white\"></td><td style=\"width:24px;height:24px;text-align:center;\" bgcolor=\"silver\"></td><td style=\"width:24px;height:24px;text-align:center;\" bgcolor=\"white\"></td><td style=\"width:24px;height:24px;text-align:center;\" bgcolor=\"silver\"></td><td style=\"width:24px;height:24px;text-align:center;\" bgcolor=\"white\"></td><td style=\"width:24px;height:24px;text-align:center;\" bgcolor=\"white\">1</td></tr><td style=\"width:24px;height:24px;text-align:center;\" bgcolor=\"white\"> </td><td style=\"width:24px;height:24px;text-align:center;\" bgcolor=\"white\">a</td><td style=\"width:24px;height:24px;text-align:center;\" bgcolor=\"white\">b</td><td style=\"width:24px;height:24px;text-align:center;\" bgcolor=\"white\">c</td><td style=\"width:24px;height:24px;text-align:center;\" bgcolor=\"white\">d</td><td style=\"width:24px;height:24px;text-align:center;\" bgcolor=\"white\">e</td><td style=\"width:24px;height:24px;text-align:center;\" bgcolor=\"white\">f</td><td style=\"width:24px;height:24px;text-align:center;\" bgcolor=\"white\">g</td><td style=\"width:24px;height:24px;text-align:center;\" bgcolor=\"white\">h</td><td style=\"width:24px;height:24px;text-align:center;\" bgcolor=\"white\"> </td></table>"
          },
          "metadata": {}
        }
      ]
    },
    {
      "metadata": { "trusted": true },
      "cell_type": "code",
      "source": "def check_place(rows, row, column):\n    \"\"\" Проверяет, если board[column][row] под атакой других ферзей \"\"\"\n    for i in range(row):\n        if rows[i] == column or \\\n            rows[i] - i == column - row or \\\n            rows[i] + i == column + row:\n            return False\n    return True\n\ntotal_shown = 0\ndef put_queen(rows=[0]*8, row=0):\n    \"\"\" Пытается подобрать место для ферзя, которое не находится под атакой других \"\"\"\n    if row == 8: # мы уместили всех 8 ферзей и можем показать доску\n        arr = [[0] * 8 for i in range(8)]\n        for row, column in enumerate(rows):\n            arr[row][column] = 1\n        return chessboard(arr)\n    else:\n        for column in range(8):\n            if check_place(rows, row, column):\n                rows[row] = column\n                board = put_queen(rows, row + 1)\n                if board: return board\n    \nput_queen()",
      "execution_count": 20,
      "outputs": [
        {
          "output_type": "execute_result",
          "execution_count": 20,
          "data": {
            "text/plain": "<IPython.core.display.HTML object>",
            "text/html": "<table><td style=\"width:24px;height:24px;text-align:center;\" bgcolor=\"white\"> </td><td style=\"width:24px;height:24px;text-align:center;\" bgcolor=\"white\">a</td><td style=\"width:24px;height:24px;text-align:center;\" bgcolor=\"white\">b</td><td style=\"width:24px;height:24px;text-align:center;\" bgcolor=\"white\">c</td><td style=\"width:24px;height:24px;text-align:center;\" bgcolor=\"white\">d</td><td style=\"width:24px;height:24px;text-align:center;\" bgcolor=\"white\">e</td><td style=\"width:24px;height:24px;text-align:center;\" bgcolor=\"white\">f</td><td style=\"width:24px;height:24px;text-align:center;\" bgcolor=\"white\">g</td><td style=\"width:24px;height:24px;text-align:center;\" bgcolor=\"white\">h</td><td style=\"width:24px;height:24px;text-align:center;\" bgcolor=\"white\"> </td><tr><td style=\"width:24px;height:24px;text-align:center;\" bgcolor=\"white\">8</td><td style=\"width:24px;height:24px;text-align:center;\" bgcolor=\"white\"><span style=\"font-size:24px\">♛</span></td><td style=\"width:24px;height:24px;text-align:center;\" bgcolor=\"silver\"></td><td style=\"width:24px;height:24px;text-align:center;\" bgcolor=\"white\"></td><td style=\"width:24px;height:24px;text-align:center;\" bgcolor=\"silver\"></td><td style=\"width:24px;height:24px;text-align:center;\" bgcolor=\"white\"></td><td style=\"width:24px;height:24px;text-align:center;\" bgcolor=\"silver\"></td><td style=\"width:24px;height:24px;text-align:center;\" bgcolor=\"white\"></td><td style=\"width:24px;height:24px;text-align:center;\" bgcolor=\"silver\"></td><td style=\"width:24px;height:24px;text-align:center;\" bgcolor=\"white\">8</td></tr><tr><td style=\"width:24px;height:24px;text-align:center;\" bgcolor=\"white\">7</td><td style=\"width:24px;height:24px;text-align:center;\" bgcolor=\"silver\"></td><td style=\"width:24px;height:24px;text-align:center;\" bgcolor=\"white\"></td><td style=\"width:24px;height:24px;text-align:center;\" bgcolor=\"silver\"></td><td style=\"width:24px;height:24px;text-align:center;\" bgcolor=\"white\"></td><td style=\"width:24px;height:24px;text-align:center;\" bgcolor=\"silver\"><span style=\"font-size:24px\">♛</span></td><td style=\"width:24px;height:24px;text-align:center;\" bgcolor=\"white\"></td><td style=\"width:24px;height:24px;text-align:center;\" bgcolor=\"silver\"></td><td style=\"width:24px;height:24px;text-align:center;\" bgcolor=\"white\"></td><td style=\"width:24px;height:24px;text-align:center;\" bgcolor=\"white\">7</td></tr><tr><td style=\"width:24px;height:24px;text-align:center;\" bgcolor=\"white\">6</td><td style=\"width:24px;height:24px;text-align:center;\" bgcolor=\"white\"></td><td style=\"width:24px;height:24px;text-align:center;\" bgcolor=\"silver\"></td><td style=\"width:24px;height:24px;text-align:center;\" bgcolor=\"white\"></td><td style=\"width:24px;height:24px;text-align:center;\" bgcolor=\"silver\"></td><td style=\"width:24px;height:24px;text-align:center;\" bgcolor=\"white\"></td><td style=\"width:24px;height:24px;text-align:center;\" bgcolor=\"silver\"></td><td style=\"width:24px;height:24px;text-align:center;\" bgcolor=\"white\"></td><td style=\"width:24px;height:24px;text-align:center;\" bgcolor=\"silver\"><span style=\"font-size:24px\">♛</span></td><td style=\"width:24px;height:24px;text-align:center;\" bgcolor=\"white\">6</td></tr><tr><td style=\"width:24px;height:24px;text-align:center;\" bgcolor=\"white\">5</td><td style=\"width:24px;height:24px;text-align:center;\" bgcolor=\"silver\"></td><td style=\"width:24px;height:24px;text-align:center;\" bgcolor=\"white\"></td><td style=\"width:24px;height:24px;text-align:center;\" bgcolor=\"silver\"></td><td style=\"width:24px;height:24px;text-align:center;\" bgcolor=\"white\"></td><td style=\"width:24px;height:24px;text-align:center;\" bgcolor=\"silver\"></td><td style=\"width:24px;height:24px;text-align:center;\" bgcolor=\"white\"><span style=\"font-size:24px\">♛</span></td><td style=\"width:24px;height:24px;text-align:center;\" bgcolor=\"silver\"></td><td style=\"width:24px;height:24px;text-align:center;\" bgcolor=\"white\"></td><td style=\"width:24px;height:24px;text-align:center;\" bgcolor=\"white\">5</td></tr><tr><td style=\"width:24px;height:24px;text-align:center;\" bgcolor=\"white\">4</td><td style=\"width:24px;height:24px;text-align:center;\" bgcolor=\"white\"></td><td style=\"width:24px;height:24px;text-align:center;\" bgcolor=\"silver\"></td><td style=\"width:24px;height:24px;text-align:center;\" bgcolor=\"white\"><span style=\"font-size:24px\">♛</span></td><td style=\"width:24px;height:24px;text-align:center;\" bgcolor=\"silver\"></td><td style=\"width:24px;height:24px;text-align:center;\" bgcolor=\"white\"></td><td style=\"width:24px;height:24px;text-align:center;\" bgcolor=\"silver\"></td><td style=\"width:24px;height:24px;text-align:center;\" bgcolor=\"white\"></td><td style=\"width:24px;height:24px;text-align:center;\" bgcolor=\"silver\"></td><td style=\"width:24px;height:24px;text-align:center;\" bgcolor=\"white\">4</td></tr><tr><td style=\"width:24px;height:24px;text-align:center;\" bgcolor=\"white\">3</td><td style=\"width:24px;height:24px;text-align:center;\" bgcolor=\"silver\"></td><td style=\"width:24px;height:24px;text-align:center;\" bgcolor=\"white\"></td><td style=\"width:24px;height:24px;text-align:center;\" bgcolor=\"silver\"></td><td style=\"width:24px;height:24px;text-align:center;\" bgcolor=\"white\"></td><td style=\"width:24px;height:24px;text-align:center;\" bgcolor=\"silver\"></td><td style=\"width:24px;height:24px;text-align:center;\" bgcolor=\"white\"></td><td style=\"width:24px;height:24px;text-align:center;\" bgcolor=\"silver\"><span style=\"font-size:24px\">♛</span></td><td style=\"width:24px;height:24px;text-align:center;\" bgcolor=\"white\"></td><td style=\"width:24px;height:24px;text-align:center;\" bgcolor=\"white\">3</td></tr><tr><td style=\"width:24px;height:24px;text-align:center;\" bgcolor=\"white\">2</td><td style=\"width:24px;height:24px;text-align:center;\" bgcolor=\"white\"></td><td style=\"width:24px;height:24px;text-align:center;\" bgcolor=\"silver\"><span style=\"font-size:24px\">♛</span></td><td style=\"width:24px;height:24px;text-align:center;\" bgcolor=\"white\"></td><td style=\"width:24px;height:24px;text-align:center;\" bgcolor=\"silver\"></td><td style=\"width:24px;height:24px;text-align:center;\" bgcolor=\"white\"></td><td style=\"width:24px;height:24px;text-align:center;\" bgcolor=\"silver\"></td><td style=\"width:24px;height:24px;text-align:center;\" bgcolor=\"white\"></td><td style=\"width:24px;height:24px;text-align:center;\" bgcolor=\"silver\"></td><td style=\"width:24px;height:24px;text-align:center;\" bgcolor=\"white\">2</td></tr><tr><td style=\"width:24px;height:24px;text-align:center;\" bgcolor=\"white\">1</td><td style=\"width:24px;height:24px;text-align:center;\" bgcolor=\"silver\"></td><td style=\"width:24px;height:24px;text-align:center;\" bgcolor=\"white\"></td><td style=\"width:24px;height:24px;text-align:center;\" bgcolor=\"silver\"></td><td style=\"width:24px;height:24px;text-align:center;\" bgcolor=\"white\"><span style=\"font-size:24px\">♛</span></td><td style=\"width:24px;height:24px;text-align:center;\" bgcolor=\"silver\"></td><td style=\"width:24px;height:24px;text-align:center;\" bgcolor=\"white\"></td><td style=\"width:24px;height:24px;text-align:center;\" bgcolor=\"silver\"></td><td style=\"width:24px;height:24px;text-align:center;\" bgcolor=\"white\"></td><td style=\"width:24px;height:24px;text-align:center;\" bgcolor=\"white\">1</td></tr><td style=\"width:24px;height:24px;text-align:center;\" bgcolor=\"white\"> </td><td style=\"width:24px;height:24px;text-align:center;\" bgcolor=\"white\">a</td><td style=\"width:24px;height:24px;text-align:center;\" bgcolor=\"white\">b</td><td style=\"width:24px;height:24px;text-align:center;\" bgcolor=\"white\">c</td><td style=\"width:24px;height:24px;text-align:center;\" bgcolor=\"white\">d</td><td style=\"width:24px;height:24px;text-align:center;\" bgcolor=\"white\">e</td><td style=\"width:24px;height:24px;text-align:center;\" bgcolor=\"white\">f</td><td style=\"width:24px;height:24px;text-align:center;\" bgcolor=\"white\">g</td><td style=\"width:24px;height:24px;text-align:center;\" bgcolor=\"white\">h</td><td style=\"width:24px;height:24px;text-align:center;\" bgcolor=\"white\"> </td></table>"
          },
          "metadata": {}
        }
      ]
    },
    {
      "cell_type": "markdown",
      "metadata": {},
      "source": [
        "### Вывод"
      ]
    },
    {
      "cell_type": "markdown",
      "metadata": {},
      "source": [
        "В ходе лабораторной работы мы научились реализовывать методы поиска, организовывать генерацию начального набора случайных данных, а также добавили реализацию добавления, поиска и удаления элементов, оценили время работы каждого алгоритма поиска и сравнили его со временем работы стандартной функции поиска, используемой в языке программирования Python 3. А также реализовали один из вариантов решения задачи о восьми ферзях"
      ]
    }
  ],"metadata":{"kernelspec":{"name":"python3","display_name":"Python 3","language":"python"},"language_info":{"name":"python","version":"3.6.13","mimetype":"text/x-python","codemirror_mode":{"name":"ipython","version":3},"pygments_lexer":"ipython3","nbconvert_exporter":"python","file_extension":".py"}},"nbformat":4,"nbformat_minor":2}