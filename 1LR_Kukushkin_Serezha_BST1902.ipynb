{
  "cells": [
    {
      "metadata": {},
      "cell_type": "markdown",
      "source": "# Лабораторная работа №1"
    },
    {
      "metadata": {},
      "cell_type": "markdown",
      "source": "## Выполнил студент группы БСТ1902 Кукушкин С.С."
    },
    {
      "metadata": {},
      "cell_type": "markdown",
      "source": "### Задание №1"
    },
    {
      "metadata": {},
      "cell_type": "markdown",
      "source": "Вывести строку «Hello, World!»"
    },
    {
      "metadata": { "trusted": true },
      "cell_type": "code",
      "source": "print(\"Hello, World!\")",
      "execution_count": 1,
      "outputs": [
        {
          "output_type": "stream",
          "text": "Hello, World!\n",
          "name": "stdout"
        }
      ]
    },
    {
      "metadata": {},
      "cell_type": "markdown",
      "source": "### Задание №2"
    },
    {
      "metadata": {},
      "cell_type": "markdown",
      "source": "Написать генератор случайных матриц(многомерных), который принимает опциональные параметры m, n, min_limit, max_limit, где m и n указывают размер матрицы, а min_lim и max_lim - минимальное и максимальное значение для генерируемого числа . По умолчанию при отсутствии параметров принимать следующие значения: m = 50 n = 50 min_limit = -250 max_limit = 1000 + (номер своего варианта)"
    },
    {
      "metadata": { "trusted": true },
      "cell_type": "code",
      "source": "import random\ndef random_matrix(m = 50, n = 50, min_limit = -250, max_limit = 1009):\n    return [[random.randint(min_limit, max_limit) for _ in range(n)] for _ in range(m)]",
      "execution_count": 2,
      "outputs": []
    },
    {
      "metadata": {},
      "cell_type": "markdown",
      "source": "### Задание №3"
    },
    {
      "metadata": {},
      "cell_type": "markdown",
      "source": "Реализовать методы сортировки строк числовой матрицы в соответствии с заданием. Оценить время работы каждого алгоритма сортировки и сравнить его со временем стандартной функции сортировки. Испытания проводить на сгенерированных матрицах."
    },
    {
      "metadata": {},
      "cell_type": "markdown",
      "source": "### Сортировка выбором"
    },
    {
      "metadata": { "trusted": true },
      "cell_type": "code",
      "source": "def selections(arr):\n    for i, e in enumerate(arr):\n        mn = min(range(i, len(arr)), key=arr.__getitem__)\n        arr[i], arr[mn] = arr[mn], e\n    return arr",
      "execution_count": 3,
      "outputs": []
    },
    {
      "metadata": {},
      "cell_type": "markdown",
      "source": "### Сортировка вставкой"
    },
    {
      "metadata": { "trusted": true },
      "cell_type": "code",
      "source": "def insertions(arr):\n    for i in range(1, len(arr)):\n        j = i - i\n        while j >= 0 and arr[i] < arr[j]: \n            arr[j + 1] = arr[j]\n            j -= 1\n        arr[j + 1] = arr[i]",
      "execution_count": 4,
      "outputs": []
    },
    {
      "metadata": {},
      "cell_type": "markdown",
      "source": "### Сортировка обменом"
    },
    {
      "metadata": { "trusted": true },
      "cell_type": "code",
      "source": "def bubbles(arr):\n    for i in range(len(arr)):\n        for j in range(0, len(arr)-i-1): \n            if arr[j] > arr[j+1] : \n                arr[j], arr[j+1] = arr[j+1], arr[j]",
      "execution_count": 5,
      "outputs": []
    },
    {
      "metadata": {},
      "cell_type": "markdown",
      "source": "### Сортировка Шеллa"
    },
    {
      "metadata": { "trusted": true },
      "cell_type": "code",
      "source": "def shells(arr):\n    last_index = len(arr) - 1\n    step = len(arr) // 2\n    while step > 0:\n        for i in range(step, last_index + 1, 1):\n            j = i\n            delta = j - step\n            while delta >= 0 and arr[delta] > arr[j]:\n                arr[delta], arr[j] = arr[j], arr[delta]\n                j = delta\n                delta = j - step\n        step //= 2",
      "execution_count": 6,
      "outputs": []
    },
    {
      "metadata": {},
      "cell_type": "markdown",
      "source": "### Быстрая сортировка"
    },
    {
      "metadata": { "trusted": true },
      "cell_type": "code",
      "source": "def quicks(arr, fst=0, lst=None):\n    if lst == None:\n        lst = len(arr) - 1\n        \n    if fst >= lst:\n        return\n \n    i, j = fst, lst\n    pivot = arr[(lst + fst) // 2]\n \n    while i <= j:\n        while arr[i] < pivot: i += 1\n        while arr[j] > pivot: j -= 1\n        if i <= j:\n            arr[i], arr[j] = arr[j], arr[i]\n            i, j = i + 1, j - 1\n            \n    quick_sort(arr, fst, j)\n    quick_sort(arr, i, lst)",
      "execution_count": 8,
      "outputs": []
    },
    {
      "metadata": {},
      "cell_type": "markdown",
      "source": "### Турнирная сортировка"
    },
    {
      "metadata": { "trusted": true },
      "cell_type": "code",
      "source": "def tournaments(arr):\n    tree = [None] * 2 * (len(arr) + len(arr) % 2)\n    index = len(tree) - len(arr) - len(arr) % 2\n    \n    for i, v in enumerate(arr):\n        tree[index + i] = (i, v)\n    \n    for j in range(len(arr)):\n        n = len(arr)\n        index = len(tree) - len(arr) - len(arr) % 2\n        while index > -1:\n            n = (n + 1) // 2\n            for i in range(n):\n                i = max(index + i * 2, 1) # на последней итерация index + i * 2 = 0\n                if tree[i] != None and tree[i + 1] != None:\n                    if tree[i][1] < tree[i + 1][1]:\n                        tree[i // 2] = tree[i]\n                    else:\n                        tree[i // 2] = tree[i + 1]\n                else:\n                    tree[i // 2] = tree[i] if tree[i] != None else tree[i + 1]\n            index -= n\n\n        index, x = tree[0]\n        arr[j] = x\n        tree[len(tree) - len(arr) - len(arr) % 2 + index] = None",
      "execution_count": 9,
      "outputs": []
    },
    {
      "metadata": {},
      "cell_type": "markdown",
      "source": "### Пирамидальная сортировка"
    },
    {
      "metadata": { "trusted": true },
      "cell_type": "code",
      "source": "def heapify(arr, n, i):\n    largest = i\n    l = 2 * i + 1\n    r = 2 * i + 2\n    if l < n and arr[i] < arr[l]:\n        largest = l\n    if r < n and arr[largest] < arr[r]:\n        largest = r\n    if largest != i:\n        arr[i], arr[largest] = arr[largest], arr[i]\n        heapify(arr, n, largest)\n        \ndef heaps(arr):\n    n = len(arr)\n    for i in range(n, -1, -1):\n        heapify(arr, n, i)\n    for i in range(n-1, 0, -1):\n        arr[i], arr[0] = arr[0], arr[i]\n        heapify(arr, i, 0)",
      "execution_count": 10,
      "outputs": []
    },
    {
      "metadata": {},
      "cell_type": "markdown",
      "source": "### Время работы алгоритмов"
    },
    {
      "metadata": { "trusted": true },
      "cell_type": "code",
      "source": "import random\nimport time\n\nSORT_FUNCTIONS = {\n    'Сортировка выбором': selections,\n    'Сортировка вставкой': insertions,\n    'Сортировка обменом': bubbles,\n    'Cортировка Шелла': shells,\n    'Быстрая сортировка': quicks,\n    'Турнирная сортировка': tournaments,\n    'Пирамидальная сортировка': heaps,\n    'Встроенная сортирока': sorted\n}\n\ndef print_comparison(comparison):\n    largest_name_len = len(max(comparison.keys(), key=len))\n    largest_name_len += 6\n\n    heading = 'Алгоритм'.ljust(largest_name_len) + 'Время'\n    print(heading)\n    print('-' * len(heading))\n    for algo, time_taken in comparison.items():\n        print(f'{algo:<{largest_name_len}}{time_taken}')\n\ntime_taken = {}\nsamples = random_matrix(50, 1000)\nfor algo_name, sorter in SORT_FUNCTIONS.items():\n    samples_copy = samples.copy()\n    start = time.perf_counter()\n    for sample in samples_copy:\n        sorter(sample)\n    end = time.perf_counter()\n\n    time_taken[algo_name] = (end - start) / len(samples)\n\ntime_taken_sorted = dict(sorted(time_taken.items(), key=lambda kv: kv[1]))\nprint_comparison(time_taken_sorted)",
      "execution_count": 11,
      "outputs": [
        {
          "output_type": "stream",
          "text": "Алгоритм                      Время\n-----------------------------------\nВстроенная сортирока          2.1347664296627046e-05\nСортировка вставкой           0.00022419240325689317\nCортировка Шелла              0.0011453566327691079\nБыстрая сортировка            0.001183442249894142\nПирамидальная сортировка      0.005244867280125618\nСортировка выбором            0.03187178045511246\nСортировка обменом            0.05096106313169003\nТурнирная сортировка          0.5387702009454369\n",
          "name": "stdout"
        }
      ]
    },
    {
      "metadata": { "trusted": true },
      "cell_type": "code",
      "source": "",
      "execution_count": null,
      "outputs": []
    },
    {
      "cell_type": "markdown",
      "metadata": {},
      "source": [
        "### Вывод"
      ]
    },
    {
      "cell_type": "markdown",
      "metadata": {},
      "source": [
        "В ходе лабораторной работы мы научились использовать Markdown, оформлять заголовки, выполнять простую задачу на вывод Hello, World! на языке программирования Python 3, а также создавать генераторы случайных матриц, реализовали 7 методов сортировки и сравнили время работы каждого метода со временем стандартной функции сортировки. Также создали публичный репозиторий на github и выгрузили данную лабораторную работу в созданный репозиторий."
      ]
    }
  ],
  "metadata": {
    "kernelspec": {
      "name": "python3",
      "display_name": "Python 3",
      "language": "python"
    },
    "language_info": {
      "name": "python",
      "version": "3.6.13",
      "mimetype": "text/x-python",
      "codemirror_mode": {
        "name": "ipython",
        "version": 3
      },
      "pygments_lexer": "ipython3",
      "nbconvert_exporter": "python",
      "file_extension": ".py"
    }
  },
  "nbformat": 4,
  "nbformat_minor": 2
}